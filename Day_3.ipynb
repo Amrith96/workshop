{
  "nbformat": 4,
  "nbformat_minor": 0,
  "metadata": {
    "colab": {
      "name": "Day 3.ipynb",
      "provenance": [],
      "collapsed_sections": [],
      "authorship_tag": "ABX9TyOUJFOvyRQ7vmeQLHvjSFii",
      "include_colab_link": true
    },
    "kernelspec": {
      "name": "python3",
      "display_name": "Python 3"
    }
  },
  "cells": [
    {
      "cell_type": "markdown",
      "metadata": {
        "id": "view-in-github",
        "colab_type": "text"
      },
      "source": [
        "<a href=\"https://colab.research.google.com/github/Amrith96/workshop/blob/main/Day_3.ipynb\" target=\"_parent\"><img src=\"https://colab.research.google.com/assets/colab-badge.svg\" alt=\"Open In Colab\"/></a>"
      ]
    },
    {
      "cell_type": "code",
      "metadata": {
        "colab": {
          "base_uri": "https://localhost:8080/"
        },
        "id": "NQw3KdxZ1O2p",
        "outputId": "152b5670-5d8d-4a35-c83e-37add4008897"
      },
      "source": [
        "username = 'David'\n",
        "password = '007'\n",
        "\n",
        "userPassword = input(\"Enter the password\")\n",
        "\n",
        "if userPassword == password :\n",
        "  print(\"Welcome\"+username)\n",
        "  print(\"Hello\")\n",
        "\n",
        "else :\n",
        "  print(\"incorrect password\")"
      ],
      "execution_count": null,
      "outputs": [
        {
          "output_type": "stream",
          "text": [
            "Enter the password007\n",
            "WelcomeDavid\n",
            "Hello\n"
          ],
          "name": "stdout"
        }
      ]
    },
    {
      "cell_type": "code",
      "metadata": {
        "colab": {
          "base_uri": "https://localhost:8080/"
        },
        "id": "XK69E8088bYA",
        "outputId": "c326e062-ebae-4538-cf05-15fc9a543287"
      },
      "source": [
        "username = 'David'\n",
        "password = '007'\n",
        "\n",
        "name = input(\"Enter the name\")\n",
        "userPassword = input(\"Enter the password\")\n",
        "\n",
        "if name==username :\n",
        "  if userPassword == password :\n",
        "      print(\"Welcome\"+username)\n",
        "  else :\n",
        "    print(\"Incorrect Password\")\n",
        "else :\n",
        "  print(\"This user is not in our database\")\n",
        "\n",
        "\n",
        "\n"
      ],
      "execution_count": null,
      "outputs": [
        {
          "output_type": "stream",
          "text": [
            "Enter the nameDavid\n",
            "Enter the password007\n",
            "WelcomeDavid\n"
          ],
          "name": "stdout"
        }
      ]
    },
    {
      "cell_type": "code",
      "metadata": {
        "colab": {
          "base_uri": "https://localhost:8080/"
        },
        "id": "t9FpWzNXPWbl",
        "outputId": "2952355c-e42f-43a2-8679-a2114ce75377"
      },
      "source": [
        "username = 'David'\n",
        "password = '007'\n",
        "OTP = '2552'\n",
        "\n",
        "name = input(\"Enter the name\")\n",
        "userPassword = input(\"Enter the password\")\n",
        "\n",
        "if name==username :\n",
        "  if userPassword == password :\n",
        "    print(\"You will recieve an OTP\")\n",
        "    pin = input(\"Enter OTP\")\n",
        "    if pin == OTP :\n",
        "      print(\"Welcome\"+username)\n",
        "    else: \n",
        "        print(\"Access Denied\")\n",
        "  else :\n",
        "    print(\"Incorrect Password\")\n",
        "else :\n",
        "  print(\"This user is not in our database\")\n",
        "\n",
        "\n"
      ],
      "execution_count": null,
      "outputs": [
        {
          "output_type": "stream",
          "text": [
            "Enter the nameDavid\n",
            "Enter the password007\n",
            "You will recieve an OTP\n",
            "Enter OTP2552\n",
            "WelcomeDavid\n"
          ],
          "name": "stdout"
        }
      ]
    },
    {
      "cell_type": "code",
      "metadata": {
        "colab": {
          "base_uri": "https://localhost:8080/"
        },
        "id": "Em9ffE7LB-Vw",
        "outputId": "8206ea3e-c289-435d-a7c1-6a7dbab4e45c"
      },
      "source": [
        "marks = int(input(\"Enter the mark\"))\n",
        "\n",
        "if marks > 90 :\n",
        "  print(\"Grade is A\")\n",
        "\n",
        "elif marks > 80 :\n",
        "  print(\"Grade is B\")\n",
        "\n",
        "elif marks > 70 :\n",
        "  print(\"Grade is C\")\n",
        "\n",
        "else :\n",
        "  print(\"Failed!\")"
      ],
      "execution_count": null,
      "outputs": [
        {
          "output_type": "stream",
          "text": [
            "Enter the mark20\n",
            "Failed!\n"
          ],
          "name": "stdout"
        }
      ]
    },
    {
      "cell_type": "code",
      "metadata": {
        "colab": {
          "base_uri": "https://localhost:8080/"
        },
        "id": "gCghnaqlE0bH",
        "outputId": "1fcfc059-6f02-4e74-b770-dddcce7ff459"
      },
      "source": [
        "for anynumber in range(2, 10) :\n",
        "  print(anynumber)"
      ],
      "execution_count": null,
      "outputs": [
        {
          "output_type": "stream",
          "text": [
            "2\n",
            "3\n",
            "4\n",
            "5\n",
            "6\n",
            "7\n",
            "8\n",
            "9\n"
          ],
          "name": "stdout"
        }
      ]
    },
    {
      "cell_type": "code",
      "metadata": {
        "colab": {
          "base_uri": "https://localhost:8080/"
        },
        "id": "3mOZP9Jf2j6B",
        "outputId": "cd053a0c-cc31-4c3b-b15f-33f3d070ca62"
      },
      "source": [
        "students = [\"Rahul\" , \"Ravi\" , \"Jane\" , \"David\" , \"Teena\"]\n",
        "students[2:5]"
      ],
      "execution_count": null,
      "outputs": [
        {
          "output_type": "execute_result",
          "data": {
            "text/plain": [
              "['Jane', 'David', 'Teena']"
            ]
          },
          "metadata": {
            "tags": []
          },
          "execution_count": 21
        }
      ]
    },
    {
      "cell_type": "code",
      "metadata": {
        "colab": {
          "base_uri": "https://localhost:8080/"
        },
        "id": "7cHHErCv3V1g",
        "outputId": "3ef27978-604c-4d97-831b-9acd61697834"
      },
      "source": [
        "for a in students :\n",
        "  print(\"Welcome\" + a)"
      ],
      "execution_count": null,
      "outputs": [
        {
          "output_type": "stream",
          "text": [
            "WelcomeRahul\n",
            "WelcomeRavi\n",
            "WelcomeJane\n",
            "WelcomeDavid\n",
            "WelcomeTeena\n"
          ],
          "name": "stdout"
        }
      ]
    },
    {
      "cell_type": "code",
      "metadata": {
        "colab": {
          "base_uri": "https://localhost:8080/"
        },
        "id": "74Txi5E34Oic",
        "outputId": "8956a1ab-7948-4ea0-fdce-361c3bf54cdb"
      },
      "source": [
        "studentMarks ={\n",
        "    \"Rahul\" : 98,\n",
        "    \"Ravi\" : 46,\n",
        "    \"Jane\" : 86,\n",
        "    \"David\" : 23,\n",
        "    \"Teena\" : 76,\n",
        "}\n",
        "\n",
        "studentMarks[\"Ravi\"]\n",
        "\n"
      ],
      "execution_count": null,
      "outputs": [
        {
          "output_type": "execute_result",
          "data": {
            "text/plain": [
              "46"
            ]
          },
          "metadata": {
            "tags": []
          },
          "execution_count": 7
        }
      ]
    },
    {
      "cell_type": "code",
      "metadata": {
        "colab": {
          "base_uri": "https://localhost:8080/"
        },
        "id": "7iOnH3TgE6Uh",
        "outputId": "7ce50e36-edb5-4a36-ae0a-152ea4bd3077"
      },
      "source": [
        "studentMarks.keys()"
      ],
      "execution_count": null,
      "outputs": [
        {
          "output_type": "execute_result",
          "data": {
            "text/plain": [
              "dict_keys(['Rahul', 'Ravi', 'Jane', 'David', 'Teena'])"
            ]
          },
          "metadata": {
            "tags": []
          },
          "execution_count": 8
        }
      ]
    },
    {
      "cell_type": "code",
      "metadata": {
        "colab": {
          "base_uri": "https://localhost:8080/"
        },
        "id": "sorKxyWTFzz0",
        "outputId": "024cbaf9-8619-4469-8fe7-5df8c596662f"
      },
      "source": [
        "for key in studentMarks.keys() :\n",
        "  #print(key)\n",
        "  #print(studentMarks[key])\n",
        "  #Pass criteria is 60\n",
        "  if studentMarks[key] > 60 :\n",
        "    print(key + \" has failed\")"
      ],
      "execution_count": null,
      "outputs": [
        {
          "output_type": "stream",
          "text": [
            "Rahul has failed\n",
            "Jane has failed\n",
            "Teena has failed\n"
          ],
          "name": "stdout"
        }
      ]
    }
  ]
}